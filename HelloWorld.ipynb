{
 "cells": [
  {
   "cell_type": "markdown",
   "metadata": {
    "collapsed": true
   },
   "source": [
    "# My First Notebook"
   ]
  },
  {
   "cell_type": "markdown",
   "source": [
    "## EXPLANATION\n",
    "\n",
    "- the full_text will have the input types in the form __ type __\n",
    "- loop through the text until there are no more __ type __ left\n",
    "- I have used string.find and string[:loc] in previous work with python\n",
    "- add all the text at the beginning of what is left of full_text\n",
    "- find out what the type is between the __'s\n",
    "- remove everything up to the __ type __ from the full_text, hence after the second __\n",
    "- ask the user for input\n",
    "- add the given word to the final_text\n",
    "- final_text = final_text + full_text"
   ],
   "metadata": {
    "collapsed": false
   }
  },
  {
   "cell_type": "markdown",
   "source": [
    "## CODE"
   ],
   "metadata": {
    "collapsed": false
   }
  },
  {
   "cell_type": "code",
   "execution_count": 8,
   "metadata": {
    "pycharm": {
     "name": "#%%\n"
    },
    "ExecuteTime": {
     "end_time": "2023-10-07T02:21:04.714267500Z",
     "start_time": "2023-10-07T02:21:04.678865200Z"
    }
   },
   "outputs": [],
   "source": [
    "# Make My first MadLibs\n",
    "def madlibs(full_text):\n",
    "    final_text = ''\n",
    "    while full_text.find(\"__\") != -1:\n",
    "        # add all the text before __\n",
    "        final_text = final_text + full_text[:full_text.find(\"__\")]\n",
    "        # get type\n",
    "        type_name = full_text[full_text.find(\"__\")+2:full_text.find(\"__\", full_text.find(\"__\")+2)]\n",
    "        # remove from full_text\n",
    "        full_text = full_text[full_text.find(\"__\", full_text.find(\"__\")+2)+2:]\n",
    "        # ask the user for input\n",
    "        input_from_user = input(\"Give me a \" + type_name + \": \")\n",
    "        # add the word to the final_text\n",
    "        final_text = final_text + input_from_user\n",
    "    # add the leftover text\n",
    "    final_text = final_text + full_text\n",
    "    print(final_text)"
   ]
  },
  {
   "cell_type": "markdown",
   "source": [
    "# TRYING OUTPUTS"
   ],
   "metadata": {
    "collapsed": false
   }
  },
  {
   "cell_type": "code",
   "execution_count": 7,
   "outputs": [
    {
     "name": "stdout",
     "output_type": "stream",
     "text": [
      "Hello, my name is Wilson and I am 27 years old.\n"
     ]
    }
   ],
   "source": [
    "madlibs(\"Hello, my name is __name__ and I am __number__ years old.\")"
   ],
   "metadata": {
    "collapsed": false,
    "ExecuteTime": {
     "end_time": "2023-10-07T02:15:08.904803300Z",
     "start_time": "2023-10-07T02:15:01.889758800Z"
    }
   }
  },
  {
   "cell_type": "code",
   "execution_count": 9,
   "outputs": [
    {
     "name": "stdout",
     "output_type": "stream",
     "text": [
      "There once was a cat named Tom and a mouse named Jerry. They were very funny and knew how to coding. And one day, they decided to travel to Seattle where they met with a dog. After 200 days, they grew tired and finally went home. To rest after such a long day they ran for a while and went to bed.\n"
     ]
    }
   ],
   "source": [
    "madlibs(\"There once was a __noun__ named __name__ and a __noun__ named __name__. They were very __adjective__ and knew how to __verb__. And one day, they decided to travel to __city__ where they met with a __noun__. After __number__ days, they grew tired and finally went home. To rest after such a long day they __verb (past tense)__ for a while and went to bed.\")"
   ],
   "metadata": {
    "collapsed": false,
    "ExecuteTime": {
     "end_time": "2023-10-07T02:22:00.487486200Z",
     "start_time": "2023-10-07T02:21:24.206067300Z"
    }
   }
  },
  {
   "cell_type": "code",
   "execution_count": 10,
   "outputs": [
    {
     "name": "stdout",
     "output_type": "stream",
     "text": [
      "Once I was walking through the crazy streets of Paris, when suddenly, I came across a beautiful shoe. It was the first time I saw something quite like it! I looked up and I was scared. I had been looking for it my entire life. What a wonder! The true question now was... how will I jump it? I had to go tell my tree Carlos. I needed their help to call the car, but we had to do it enthusiastically. Sadly, we failed our mission. Nevertheless, my life would never be the same...\n"
     ]
    }
   ],
   "source": [
    "madlibs('Once I was walking through the __adjective__ streets of __city__, when suddenly, I came across a __adjective__ __noun__. It was the first time I saw something quite like it! I looked up and I was __emotion__. I had been looking for it my entire life. What a wonder! The true question now was... how will I __verb__ it? I had to go tell my __noun__ __name__. I needed their help to call the __noun__, but we had to do it __adverb__. Sadly, we failed our mission. Nevertheless, my life would never be the same...')"
   ],
   "metadata": {
    "collapsed": false,
    "ExecuteTime": {
     "end_time": "2023-10-07T02:31:23.465255800Z",
     "start_time": "2023-10-07T02:30:08.526359600Z"
    }
   }
  }
 ],
 "metadata": {
  "kernelspec": {
   "display_name": "Python 3 (ipykernel)",
   "language": "python",
   "name": "python3"
  },
  "language_info": {
   "codemirror_mode": {
    "name": "ipython",
    "version": 3
   },
   "file_extension": ".py",
   "mimetype": "text/x-python",
   "name": "python",
   "nbconvert_exporter": "python",
   "pygments_lexer": "ipython3",
   "version": "3.9.7"
  }
 },
 "nbformat": 4,
 "nbformat_minor": 4
}
