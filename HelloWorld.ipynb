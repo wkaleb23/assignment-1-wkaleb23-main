{
 "cells": [
  {
   "cell_type": "markdown",
   "metadata": {
    "collapsed": true
   },
   "source": [
    "# My First Notebook"
   ]
  },
  {
   "cell_type": "code",
   "execution_count": 5,
   "metadata": {
    "pycharm": {
     "name": "#%%\n"
    },
    "ExecuteTime": {
     "end_time": "2023-10-07T02:02:10.365302400Z",
     "start_time": "2023-10-07T02:02:10.341824400Z"
    }
   },
   "outputs": [],
   "source": [
    "# Make My first MadLibs\n",
    "def madlibs(full_text):\n",
    "    final_text = ''\n",
    "    while full_text.find(\"__\") != -1:\n",
    "        # I have used string.find and string[:loc] in previous work with python\n",
    "        # add all the text at the beginning of what is left of full_text\n",
    "        final_text = final_text + full_text[:full_text.find(\"__\")]\n",
    "        # find out what the type is between the __'s\n",
    "        type_name = full_text[full_text.find(\"__\")+2:full_text.find(\"__\", full_text.find(\"__\")+2)]\n",
    "        # remove everything up to the __type__ from the full_text, hence after the second __\n",
    "        full_text = full_text[full_text.find(\"__\", full_text.find(\"__\")+2)+2:]\n",
    "        # ask the user for input\n",
    "        input_from_user = input(\"Give me a \" + type_name + \": \")\n",
    "        # add the given word to the final_text\n",
    "        final_text = final_text + input_from_user\n",
    "    # add the leftover text\n",
    "    final_text = final_text + full_text\n",
    "    \n",
    "    print(final_text)"
   ]
  },
  {
   "cell_type": "code",
   "execution_count": 7,
   "outputs": [
    {
     "name": "stdout",
     "output_type": "stream",
     "text": [
      "Hello, my name is Wilson and I am 27 years old.\n"
     ]
    }
   ],
   "source": [
    "madlibs(\"Hello, my name is __name__ and I am __number__ years old.\")"
   ],
   "metadata": {
    "collapsed": false,
    "ExecuteTime": {
     "end_time": "2023-10-07T02:15:08.904803300Z",
     "start_time": "2023-10-07T02:15:01.889758800Z"
    }
   }
  },
  {
   "cell_type": "code",
   "execution_count": null,
   "outputs": [],
   "source": [],
   "metadata": {
    "collapsed": false
   }
  }
 ],
 "metadata": {
  "kernelspec": {
   "display_name": "Python 3 (ipykernel)",
   "language": "python",
   "name": "python3"
  },
  "language_info": {
   "codemirror_mode": {
    "name": "ipython",
    "version": 3
   },
   "file_extension": ".py",
   "mimetype": "text/x-python",
   "name": "python",
   "nbconvert_exporter": "python",
   "pygments_lexer": "ipython3",
   "version": "3.9.7"
  }
 },
 "nbformat": 4,
 "nbformat_minor": 4
}
